{
 "cells": [
  {
   "cell_type": "code",
   "execution_count": null,
   "id": "3eaf9ee9-a0d4-4dab-bd5c-91ed2f5324be",
   "metadata": {},
   "outputs": [],
   "source": [
    "paragraph=input(\"this app will return the number of words in your paragraph;try it.\")\n",
    "count=0\n",
    "for char in paragraph:\n",
    "\n",
    "    if char==\" \" or char ==\"\\n\":\n",
    "        count+=1\n",
    "\n",
    "print(f\"number of words in your paragraph are {count+1}\")\n"
   ]
  },
  {
   "cell_type": "code",
   "execution_count": null,
   "id": "8a6eb2cf-5a71-4aef-b579-54827e2d7b19",
   "metadata": {},
   "outputs": [],
   "source": []
  }
 ],
 "metadata": {
  "kernelspec": {
   "display_name": "Python 3 (ipykernel)",
   "language": "python",
   "name": "python3"
  },
  "language_info": {
   "codemirror_mode": {
    "name": "ipython",
    "version": 3
   },
   "file_extension": ".py",
   "mimetype": "text/x-python",
   "name": "python",
   "nbconvert_exporter": "python",
   "pygments_lexer": "ipython3",
   "version": "3.13.2"
  }
 },
 "nbformat": 4,
 "nbformat_minor": 5
}
